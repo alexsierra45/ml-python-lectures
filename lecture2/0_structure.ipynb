{
 "cells": [
  {
   "cell_type": "markdown",
   "metadata": {},
   "source": []
  },
  {
   "cell_type": "markdown",
   "metadata": {},
   "source": [
    "# Lecture 2. More on Python\n",
    "- [Dictionaries and sets](dicts_and_sets.ipynb)\n",
    "- [Functions](functions.ipynb)\n",
    "- [Comprehensions](comprehensions.ipynb)\n",
    "- [Iterators and generators](iterators.ipynb)\n",
    "- [Functional programming basics](funct_program.ipynb)\n",
    "- [Object-oriented programming concepts](intro_oop.ipynb)"
   ]
  }
 ],
 "metadata": {
  "kernelspec": {
   "display_name": "torch_teach",
   "language": "python",
   "name": "python3"
  },
  "language_info": {
   "name": "python",
   "version": "3.10.14"
  }
 },
 "nbformat": 4,
 "nbformat_minor": 2
}
