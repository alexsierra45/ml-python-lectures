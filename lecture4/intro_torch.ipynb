{
 "cells": [
  {
   "cell_type": "markdown",
   "id": "239ed5fb",
   "metadata": {},
   "source": [
    "# Introduction to Torch\n",
    "- Deep learning library developed by Meta (Formerly Facebook)\n",
    "- Is a key component of PyTorch ecosystem\n",
    "\n",
    "Similarities with Autograd:\n",
    "- Automatic differentiation\n",
    "- Easy of use\n",
    "- Pythonic integration\n",
    "- Dynamic computational graphs\n",
    "- Gradient computation and optimization\n",
    "\n",
    "Differences with AutoGrad:\n",
    "- Based on **tensors** (multidimensional matrixes) instead of **values**\n",
    "- Easy to execute on GPUs of different vendors\n",
    "- Lots of components and tools integrated\n",
    "\n",
    "## A simple example in torch"
   ]
  },
  {
   "cell_type": "code",
   "execution_count": 1,
   "id": "4495b29b",
   "metadata": {},
   "outputs": [
    {
     "name": "stdout",
     "output_type": "stream",
     "text": [
      "0.7071066904050358\n"
     ]
    },
    {
     "name": "stderr",
     "output_type": "stream",
     "text": [
      "/home/milton/miniconda3/envs/torch_teach/lib/python3.10/site-packages/tqdm/auto.py:21: TqdmWarning: IProgress not found. Please update jupyter and ipywidgets. See https://ipywidgets.readthedocs.io/en/stable/user_install.html\n",
      "  from .autonotebook import tqdm as notebook_tqdm\n"
     ]
    }
   ],
   "source": [
    "import torch\n",
    "\n",
    "x1 = torch.Tensor([2.0]).double(); x1.requires_grad = True\n",
    "x2 = torch.Tensor([0.0]).double(); x2.requires_grad = True\n",
    "w1 = torch.Tensor([-3.0]).double(); w1.requires_grad = True\n",
    "w2 = torch.Tensor([1.0]).double(); w2.requires_grad = True\n",
    "b = torch.Tensor([6.8813735870195432]).double(); b.requires_grad = True\n",
    "n = x1*w1 + x2*w2 + b\n",
    "o = torch.tanh(n)\n",
    "\n",
    "print(o.data.item())"
   ]
  },
  {
   "cell_type": "code",
   "execution_count": 2,
   "id": "1ca96a90",
   "metadata": {},
   "outputs": [
    {
     "name": "stdout",
     "output_type": "stream",
     "text": [
      "x1 -1.5000003851533106\n",
      "w1 1.0000002567688737\n",
      "x2 0.5000001283844369\n",
      "w2 0.0\n",
      "b 0.5000001283844369\n"
     ]
    }
   ],
   "source": [
    "o.backward()\n",
    "\n",
    "print('x1', x1.grad.item())\n",
    "print('w1', w1.grad.item())\n",
    "print('x2', x2.grad.item())\n",
    "print('w2', w2.grad.item())\n",
    "print('b', b.grad.item())"
   ]
  },
  {
   "cell_type": "markdown",
   "id": "3bf6ba12",
   "metadata": {},
   "source": [
    "## A neural network in torch"
   ]
  },
  {
   "cell_type": "code",
   "execution_count": 3,
   "id": "2f77e492",
   "metadata": {},
   "outputs": [],
   "source": [
    "xs = torch.tensor([\n",
    "    [2.0, 3.0, -1.0],\n",
    "    [3.0, -1.0, 0.5],\n",
    "    [0.5, 1.0, -1.0],\n",
    "    [1.0, 1.0, -1.0]\n",
    "])\n",
    "ys = torch.tensor([1.0, -1.0, -1.0, 1.0])"
   ]
  },
  {
   "cell_type": "code",
   "execution_count": 4,
   "id": "5bab5ae9",
   "metadata": {},
   "outputs": [
    {
     "data": {
      "text/plain": [
       "tensor([[-1.2771],\n",
       "        [-1.0198],\n",
       "        [-1.0095]])"
      ]
     },
     "execution_count": 4,
     "metadata": {},
     "output_type": "execute_result"
    }
   ],
   "source": [
    "# Neuron, three inputs\n",
    "W = torch.randn((3, 1))\n",
    "W"
   ]
  },
  {
   "cell_type": "code",
   "execution_count": 5,
   "id": "969df59a",
   "metadata": {},
   "outputs": [
    {
     "data": {
      "text/plain": [
       "tensor([[-4.6042],\n",
       "        [-3.3162],\n",
       "        [-0.6489],\n",
       "        [-1.2874]])"
      ]
     },
     "execution_count": 5,
     "metadata": {},
     "output_type": "execute_result"
    }
   ],
   "source": [
    "# activation of the neuron on the four inputs\n",
    "xs @ W"
   ]
  },
  {
   "cell_type": "code",
   "execution_count": 6,
   "id": "31e1d9c2",
   "metadata": {},
   "outputs": [
    {
     "data": {
      "text/plain": [
       "tensor([-1.6452])"
      ]
     },
     "execution_count": 6,
     "metadata": {},
     "output_type": "execute_result"
    }
   ],
   "source": [
    "# Lets now add the bias\n",
    "b = torch.randn((1,))\n",
    "b"
   ]
  },
  {
   "cell_type": "code",
   "execution_count": 7,
   "id": "a61f0b68",
   "metadata": {
    "scrolled": true
   },
   "outputs": [
    {
     "data": {
      "text/plain": [
       "tensor([[-6.2494],\n",
       "        [-4.9614],\n",
       "        [-2.2941],\n",
       "        [-2.9327]])"
      ]
     },
     "execution_count": 7,
     "metadata": {},
     "output_type": "execute_result"
    }
   ],
   "source": [
    "# activation of the first neuron for the four inputs\n",
    "xs @ W + b"
   ]
  },
  {
   "cell_type": "code",
   "execution_count": 8,
   "id": "e0ac8e9f",
   "metadata": {},
   "outputs": [
    {
     "data": {
      "text/plain": [
       "tensor([[-0.1841, -1.2830, -1.2930,  0.2735],\n",
       "        [ 0.3432,  2.6786,  0.5324,  0.9395],\n",
       "        [ 0.1809, -0.2575,  0.1007, -0.8770]])"
      ]
     },
     "execution_count": 8,
     "metadata": {},
     "output_type": "execute_result"
    }
   ],
   "source": [
    "# lets add more neurons\n",
    "W = torch.randn((3, 4))\n",
    "W"
   ]
  },
  {
   "cell_type": "code",
   "execution_count": 9,
   "id": "65a7767e",
   "metadata": {
    "scrolled": true
   },
   "outputs": [
    {
     "data": {
      "text/plain": [
       "tensor([[ 0.4805,  5.7274, -1.0894,  4.2426],\n",
       "        [-0.8052, -6.6565, -4.3611, -0.5574],\n",
       "        [ 0.0702,  2.2946, -0.2148,  1.9533],\n",
       "        [-0.0218,  1.6531, -0.8613,  2.0900]])"
      ]
     },
     "execution_count": 9,
     "metadata": {},
     "output_type": "execute_result"
    }
   ],
   "source": [
    "# what is now the product?\n",
    "xs @ W"
   ]
  },
  {
   "cell_type": "code",
   "execution_count": 10,
   "id": "00197cf8",
   "metadata": {},
   "outputs": [
    {
     "data": {
      "text/plain": [
       "(torch.Size([4, 3]), torch.Size([3, 4]), torch.Size([4, 4]))"
      ]
     },
     "execution_count": 10,
     "metadata": {},
     "output_type": "execute_result"
    }
   ],
   "source": [
    "# xs -> objects x features\n",
    "# W -> weights x neurons\n",
    "# xs @ W -> objects x neurons, each cell contains sum(features*weights)\n",
    "xs.shape, W.shape, (xs@W).shape"
   ]
  },
  {
   "cell_type": "code",
   "execution_count": 11,
   "id": "6b74238e",
   "metadata": {
    "scrolled": true
   },
   "outputs": [
    {
     "data": {
      "text/plain": [
       "tensor([[ 0.4805,  5.7274, -1.0894,  4.2426],\n",
       "        [-0.8052, -6.6565, -4.3611, -0.5574],\n",
       "        [ 0.0702,  2.2946, -0.2148,  1.9533],\n",
       "        [-0.0218,  1.6531, -0.8613,  2.0900]])"
      ]
     },
     "metadata": {},
     "output_type": "display_data"
    },
    {
     "data": {
      "text/plain": [
       "tensor([[-0.0355,  0.4848,  0.1603,  2.1485]])"
      ]
     },
     "metadata": {},
     "output_type": "display_data"
    },
    {
     "data": {
      "text/plain": [
       "tensor([[ 0.4450,  6.2122, -0.9291,  6.3910],\n",
       "        [-0.8407, -6.1717, -4.2009,  1.5910],\n",
       "        [ 0.0348,  2.7794, -0.0545,  4.1017],\n",
       "        [-0.0573,  2.1379, -0.7010,  4.2385]])"
      ]
     },
     "metadata": {},
     "output_type": "display_data"
    }
   ],
   "source": [
    "# the bias is added per neuron, after xs * W\n",
    "b = torch.randn((1,4))\n",
    "act = xs @ W + b\n",
    "display(xs @ W)\n",
    "display(b)\n",
    "display(act)"
   ]
  },
  {
   "cell_type": "code",
   "execution_count": 12,
   "id": "b5d121ac",
   "metadata": {
    "scrolled": true
   },
   "outputs": [
    {
     "data": {
      "text/plain": [
       "tensor([[ 0.4178,  1.0000, -0.7302,  1.0000],\n",
       "        [-0.6862, -1.0000, -0.9996,  0.9203],\n",
       "        [ 0.0348,  0.9923, -0.0544,  0.9995],\n",
       "        [-0.0572,  0.9726, -0.6050,  0.9996]])"
      ]
     },
     "execution_count": 12,
     "metadata": {},
     "output_type": "execute_result"
    }
   ],
   "source": [
    "# now, it is time to evaluate the activation function on the activation\n",
    "(xs @ W + b).tanh()"
   ]
  },
  {
   "cell_type": "markdown",
   "id": "df7eca37",
   "metadata": {},
   "source": [
    "As a summary, a fully connected layer is formed by:\n",
    "- A weight matrix that has one row per input value, and a column per output value\n",
    "- A bias vector, that has a single row and a column per neuron\n",
    "- An activation function\n",
    "\n",
    "Note: All the elements here are differentiable."
   ]
  },
  {
   "cell_type": "code",
   "execution_count": 13,
   "id": "781a665d",
   "metadata": {},
   "outputs": [
    {
     "data": {
      "text/plain": [
       "tensor([[ 2.0000,  3.0000, -1.0000],\n",
       "        [ 3.0000, -1.0000,  0.5000],\n",
       "        [ 0.5000,  1.0000, -1.0000],\n",
       "        [ 1.0000,  1.0000, -1.0000]])"
      ]
     },
     "metadata": {},
     "output_type": "display_data"
    },
    {
     "data": {
      "text/plain": [
       "tensor([ 1., -1., -1.,  1.])"
      ]
     },
     "metadata": {},
     "output_type": "display_data"
    }
   ],
   "source": [
    "# back to the original problem\n",
    "display(xs)\n",
    "display(ys)"
   ]
  },
  {
   "cell_type": "code",
   "execution_count": 14,
   "id": "b70ffc23",
   "metadata": {},
   "outputs": [
    {
     "data": {
      "text/plain": [
       "tensor([[-0.0300],\n",
       "        [ 0.4795],\n",
       "        [-0.6968],\n",
       "        [-0.5644]])"
      ]
     },
     "execution_count": 14,
     "metadata": {},
     "output_type": "execute_result"
    }
   ],
   "source": [
    "# we have three features and one output, so we need one output neuron\n",
    "W = torch.randn((3, 1))\n",
    "b = torch.randn((1, 1))\n",
    "\n",
    "out = (xs @ W + b).tanh()\n",
    "out"
   ]
  },
  {
   "cell_type": "code",
   "execution_count": 15,
   "id": "f49b07b0",
   "metadata": {},
   "outputs": [
    {
     "data": {
      "text/plain": [
       "tensor(20.1396)"
      ]
     },
     "execution_count": 15,
     "metadata": {},
     "output_type": "execute_result"
    }
   ],
   "source": [
    "# lets calculate the loss\n",
    "loss = torch.sum((out - ys)**2)\n",
    "loss"
   ]
  },
  {
   "cell_type": "code",
   "execution_count": 16,
   "id": "6b5e4341",
   "metadata": {
    "scrolled": true
   },
   "outputs": [
    {
     "data": {
      "text/plain": [
       "tensor([[-1.0300,  0.9700,  0.9700, -1.0300],\n",
       "        [-0.5205,  1.4795,  1.4795, -0.5205],\n",
       "        [-1.6968,  0.3032,  0.3032, -1.6968],\n",
       "        [-1.5644,  0.4356,  0.4356, -1.5644]])"
      ]
     },
     "execution_count": 16,
     "metadata": {},
     "output_type": "execute_result"
    }
   ],
   "source": [
    "# Uppps, it should not be that large!\n",
    "out-ys"
   ]
  },
  {
   "cell_type": "code",
   "execution_count": 17,
   "id": "eb882bee",
   "metadata": {},
   "outputs": [
    {
     "data": {
      "text/plain": [
       "(torch.Size([4, 1]), torch.Size([4]), torch.Size([4, 4]))"
      ]
     },
     "execution_count": 17,
     "metadata": {},
     "output_type": "execute_result"
    }
   ],
   "source": [
    "out.shape, ys.shape, (out-ys).shape"
   ]
  },
  {
   "cell_type": "code",
   "execution_count": 18,
   "id": "0b89f142",
   "metadata": {},
   "outputs": [
    {
     "data": {
      "text/plain": [
       "(torch.Size([4, 1]), torch.Size([4]))"
      ]
     },
     "execution_count": 18,
     "metadata": {},
     "output_type": "execute_result"
    }
   ],
   "source": [
    "# one solution is remove the last dimension from out\n",
    "out.shape, out.squeeze().shape"
   ]
  },
  {
   "cell_type": "code",
   "execution_count": 19,
   "id": "c3d48a83",
   "metadata": {},
   "outputs": [
    {
     "data": {
      "text/plain": [
       "tensor([-1.0300,  1.4795,  0.3032, -1.5644])"
      ]
     },
     "execution_count": 19,
     "metadata": {},
     "output_type": "execute_result"
    }
   ],
   "source": [
    "out.squeeze() - ys"
   ]
  },
  {
   "cell_type": "code",
   "execution_count": 20,
   "id": "1f495770",
   "metadata": {},
   "outputs": [
    {
     "data": {
      "text/plain": [
       "tensor(5.7889)"
      ]
     },
     "execution_count": 20,
     "metadata": {},
     "output_type": "execute_result"
    }
   ],
   "source": [
    "loss = torch.sum((out.squeeze() - ys)**2)\n",
    "loss"
   ]
  },
  {
   "cell_type": "code",
   "execution_count": 21,
   "id": "6434d6fa",
   "metadata": {},
   "outputs": [
    {
     "ename": "RuntimeError",
     "evalue": "element 0 of tensors does not require grad and does not have a grad_fn",
     "output_type": "error",
     "traceback": [
      "\u001b[0;31m---------------------------------------------------------------------------\u001b[0m",
      "\u001b[0;31mRuntimeError\u001b[0m                              Traceback (most recent call last)",
      "Cell \u001b[0;32mIn[21], line 2\u001b[0m\n\u001b[1;32m      1\u001b[0m \u001b[38;5;66;03m# since everything is differentiable, we can backpropagate the loss\u001b[39;00m\n\u001b[0;32m----> 2\u001b[0m \u001b[43mloss\u001b[49m\u001b[38;5;241;43m.\u001b[39;49m\u001b[43mbackward\u001b[49m\u001b[43m(\u001b[49m\u001b[43m)\u001b[49m\n",
      "File \u001b[0;32m~/miniconda3/envs/torch_teach/lib/python3.10/site-packages/torch/_tensor.py:396\u001b[0m, in \u001b[0;36mTensor.backward\u001b[0;34m(self, gradient, retain_graph, create_graph, inputs)\u001b[0m\n\u001b[1;32m    387\u001b[0m \u001b[38;5;28;01mif\u001b[39;00m has_torch_function_unary(\u001b[38;5;28mself\u001b[39m):\n\u001b[1;32m    388\u001b[0m     \u001b[38;5;28;01mreturn\u001b[39;00m handle_torch_function(\n\u001b[1;32m    389\u001b[0m         Tensor\u001b[38;5;241m.\u001b[39mbackward,\n\u001b[1;32m    390\u001b[0m         (\u001b[38;5;28mself\u001b[39m,),\n\u001b[0;32m   (...)\u001b[0m\n\u001b[1;32m    394\u001b[0m         create_graph\u001b[38;5;241m=\u001b[39mcreate_graph,\n\u001b[1;32m    395\u001b[0m         inputs\u001b[38;5;241m=\u001b[39minputs)\n\u001b[0;32m--> 396\u001b[0m \u001b[43mtorch\u001b[49m\u001b[38;5;241;43m.\u001b[39;49m\u001b[43mautograd\u001b[49m\u001b[38;5;241;43m.\u001b[39;49m\u001b[43mbackward\u001b[49m\u001b[43m(\u001b[49m\u001b[38;5;28;43mself\u001b[39;49m\u001b[43m,\u001b[49m\u001b[43m \u001b[49m\u001b[43mgradient\u001b[49m\u001b[43m,\u001b[49m\u001b[43m \u001b[49m\u001b[43mretain_graph\u001b[49m\u001b[43m,\u001b[49m\u001b[43m \u001b[49m\u001b[43mcreate_graph\u001b[49m\u001b[43m,\u001b[49m\u001b[43m \u001b[49m\u001b[43minputs\u001b[49m\u001b[38;5;241;43m=\u001b[39;49m\u001b[43minputs\u001b[49m\u001b[43m)\u001b[49m\n",
      "File \u001b[0;32m~/miniconda3/envs/torch_teach/lib/python3.10/site-packages/torch/autograd/__init__.py:173\u001b[0m, in \u001b[0;36mbackward\u001b[0;34m(tensors, grad_tensors, retain_graph, create_graph, grad_variables, inputs)\u001b[0m\n\u001b[1;32m    168\u001b[0m     retain_graph \u001b[38;5;241m=\u001b[39m create_graph\n\u001b[1;32m    170\u001b[0m \u001b[38;5;66;03m# The reason we repeat same the comment below is that\u001b[39;00m\n\u001b[1;32m    171\u001b[0m \u001b[38;5;66;03m# some Python versions print out the first line of a multi-line function\u001b[39;00m\n\u001b[1;32m    172\u001b[0m \u001b[38;5;66;03m# calls in the traceback and some print out the last line\u001b[39;00m\n\u001b[0;32m--> 173\u001b[0m \u001b[43mVariable\u001b[49m\u001b[38;5;241;43m.\u001b[39;49m\u001b[43m_execution_engine\u001b[49m\u001b[38;5;241;43m.\u001b[39;49m\u001b[43mrun_backward\u001b[49m\u001b[43m(\u001b[49m\u001b[43m  \u001b[49m\u001b[38;5;66;43;03m# Calls into the C++ engine to run the backward pass\u001b[39;49;00m\n\u001b[1;32m    174\u001b[0m \u001b[43m    \u001b[49m\u001b[43mtensors\u001b[49m\u001b[43m,\u001b[49m\u001b[43m \u001b[49m\u001b[43mgrad_tensors_\u001b[49m\u001b[43m,\u001b[49m\u001b[43m \u001b[49m\u001b[43mretain_graph\u001b[49m\u001b[43m,\u001b[49m\u001b[43m \u001b[49m\u001b[43mcreate_graph\u001b[49m\u001b[43m,\u001b[49m\u001b[43m \u001b[49m\u001b[43minputs\u001b[49m\u001b[43m,\u001b[49m\n\u001b[1;32m    175\u001b[0m \u001b[43m    \u001b[49m\u001b[43mallow_unreachable\u001b[49m\u001b[38;5;241;43m=\u001b[39;49m\u001b[38;5;28;43;01mTrue\u001b[39;49;00m\u001b[43m,\u001b[49m\u001b[43m \u001b[49m\u001b[43maccumulate_grad\u001b[49m\u001b[38;5;241;43m=\u001b[39;49m\u001b[38;5;28;43;01mTrue\u001b[39;49;00m\u001b[43m)\u001b[49m\n",
      "\u001b[0;31mRuntimeError\u001b[0m: element 0 of tensors does not require grad and does not have a grad_fn"
     ]
    }
   ],
   "source": [
    "# since everything is differentiable, we can backpropagate the loss\n",
    "loss.backward()"
   ]
  },
  {
   "cell_type": "code",
   "execution_count": 22,
   "id": "fcc3ae29",
   "metadata": {},
   "outputs": [],
   "source": [
    "# In torch, we need to warn the framework about the tensors we need to calculate the grad\n",
    "\n",
    "# network definition, seed controled\n",
    "g = torch.Generator().manual_seed(31416)\n",
    "W = torch.randn((3, 1), generator=g, requires_grad=True)\n",
    "b = torch.randn((1, 1), generator=g, requires_grad=True)"
   ]
  },
  {
   "cell_type": "code",
   "execution_count": 23,
   "id": "176d4798",
   "metadata": {},
   "outputs": [
    {
     "name": "stdout",
     "output_type": "stream",
     "text": [
      "Final loss: 0.5335512161254883\n"
     ]
    }
   ],
   "source": [
    "learning_rate = 0.1\n",
    "for _ in range(100):\n",
    "    # forward pass\n",
    "    out = (xs @ W + b).tanh()\n",
    "    loss = torch.mean((out.squeeze() - ys)**2)\n",
    "#     print(loss.item())\n",
    "\n",
    "    # backward pass, need to remove the gradients\n",
    "    W.grad = None\n",
    "    b.grad = None\n",
    "    loss.backward()\n",
    "\n",
    "    # update parameters\n",
    "    W.data += -learning_rate * W.grad\n",
    "    b.data += -learning_rate * b.grad\n",
    "print(\"Final loss:\", loss.item())"
   ]
  },
  {
   "cell_type": "code",
   "execution_count": 24,
   "id": "36f76828",
   "metadata": {},
   "outputs": [
    {
     "data": {
      "text/plain": [
       "(tensor([[ 0.8151],\n",
       "         [-0.7351],\n",
       "         [ 0.0957],\n",
       "         [ 0.0894]]),\n",
       " tensor([ 1., -1., -1.,  1.]))"
      ]
     },
     "execution_count": 24,
     "metadata": {},
     "output_type": "execute_result"
    }
   ],
   "source": [
    "out.data, ys"
   ]
  },
  {
   "cell_type": "code",
   "execution_count": 25,
   "id": "9f7b0c3f",
   "metadata": {},
   "outputs": [],
   "source": [
    "g = torch.Generator().manual_seed(31416)\n",
    "W = torch.randn((3, 1), generator=g, requires_grad=True)\n",
    "b = torch.randn((1, 1), generator=g, requires_grad=True)"
   ]
  },
  {
   "cell_type": "code",
   "execution_count": 26,
   "id": "41857d3f",
   "metadata": {},
   "outputs": [
    {
     "name": "stdout",
     "output_type": "stream",
     "text": [
      "0.9803782105445862\n",
      "0.9798128604888916\n",
      "0.9792225360870361\n",
      "0.9786055684089661\n",
      "0.9779596924781799\n",
      "0.9772826433181763\n",
      "0.9765719771385193\n",
      "0.9758249521255493\n",
      "0.9750387072563171\n",
      "0.974209725856781\n",
      "0.973334789276123\n",
      "0.9724098443984985\n",
      "0.9714303612709045\n",
      "0.9703920483589172\n",
      "0.9692895412445068\n",
      "0.9681171774864197\n",
      "0.9668686389923096\n",
      "0.9655371904373169\n",
      "0.9641155004501343\n",
      "0.9625952243804932\n",
      "0.9609677791595459\n",
      "0.9592238664627075\n",
      "0.9573534727096558\n",
      "0.9553462862968445\n",
      "0.9531917572021484\n",
      "0.9508795738220215\n",
      "0.9484006762504578\n",
      "0.9457467198371887\n",
      "0.9429123997688293\n",
      "0.9398964643478394\n",
      "0.9367031455039978\n",
      "0.9333431720733643\n",
      "0.9298364520072937\n",
      "0.9262111783027649\n",
      "0.922502875328064\n",
      "0.9187514185905457\n",
      "0.9149946570396423\n",
      "0.9112610220909119\n",
      "0.9075634479522705\n",
      "0.9038944244384766\n",
      "0.9002285003662109\n",
      "0.8965272903442383\n",
      "0.8927478194236755\n",
      "0.8888483047485352\n",
      "0.8847925066947937\n",
      "0.880550742149353\n",
      "0.8760994672775269\n",
      "0.8714191913604736\n",
      "0.8664937019348145\n",
      "0.8613086342811584\n",
      "0.8558508157730103\n",
      "0.8501080870628357\n",
      "0.8440698385238647\n",
      "0.8377262353897095\n",
      "0.8310692310333252\n",
      "0.8240929841995239\n",
      "0.8167934417724609\n",
      "0.809170663356781\n",
      "0.8012272715568542\n",
      "0.7929704189300537\n",
      "0.784412145614624\n",
      "0.7755692601203918\n",
      "0.7664642930030823\n",
      "0.7571258544921875\n",
      "0.747588038444519\n",
      "0.737890899181366\n",
      "0.7280800342559814\n",
      "0.718205451965332\n",
      "0.7083210945129395\n",
      "0.6984831094741821\n",
      "0.6887487173080444\n",
      "0.6791740655899048\n",
      "0.6698129177093506\n",
      "0.6607142090797424\n",
      "0.6519206166267395\n",
      "0.6434677243232727\n",
      "0.6353816986083984\n",
      "0.6276803612709045\n",
      "0.6203727126121521\n",
      "0.6134592294692993\n",
      "0.6069338321685791\n",
      "0.6007845401763916\n",
      "0.594995379447937\n",
      "0.5895473957061768\n",
      "0.5844202637672424\n",
      "0.5795930027961731\n",
      "0.575044572353363\n",
      "0.5707547664642334\n",
      "0.5667042136192322\n",
      "0.5628746747970581\n",
      "0.5592492818832397\n",
      "0.555811882019043\n",
      "0.5525481700897217\n",
      "0.5494444370269775\n",
      "0.546488344669342\n",
      "0.5436683893203735\n",
      "0.540973961353302\n",
      "0.538395345211029\n",
      "0.5359238982200623\n",
      "0.5335512161254883\n",
      "Final loss: 0.5335512161254883\n"
     ]
    }
   ],
   "source": [
    "# Let simplify the code\n",
    "learning_rate = 0.1\n",
    "parameters = [W, b]\n",
    "for _ in range(100):\n",
    "    # forward pass\n",
    "    out = (xs @ W + b).tanh()\n",
    "    loss = torch.mean((out.squeeze() - ys)**2)\n",
    "    print(loss.item())\n",
    "\n",
    "    # backward pass, need to remove the gradients\n",
    "    for p in parameters:\n",
    "        p.grad = None\n",
    "    loss.backward()\n",
    "\n",
    "    # update parameters\n",
    "    for p in parameters:\n",
    "        p.data += -learning_rate * p.grad\n",
    "        \n",
    "print(\"Final loss:\", loss.item())\n"
   ]
  },
  {
   "cell_type": "code",
   "execution_count": 27,
   "id": "e3e78fcb",
   "metadata": {},
   "outputs": [
    {
     "data": {
      "text/plain": [
       "(tensor([[ 0.8151],\n",
       "         [-0.7351],\n",
       "         [ 0.0957],\n",
       "         [ 0.0894]]),\n",
       " tensor([ 1., -1., -1.,  1.]))"
      ]
     },
     "execution_count": 27,
     "metadata": {},
     "output_type": "execute_result"
    }
   ],
   "source": [
    "out.data, ys"
   ]
  },
  {
   "cell_type": "markdown",
   "id": "5809efac",
   "metadata": {},
   "source": [
    "## Solving moon problem, using the GPU"
   ]
  },
  {
   "cell_type": "code",
   "execution_count": 28,
   "id": "d4de318a",
   "metadata": {},
   "outputs": [],
   "source": [
    "import numpy as np\n",
    "import random\n",
    "import matplotlib.pyplot as plt\n",
    "np.random.seed(1337)\n",
    "random.seed(1337)"
   ]
  },
  {
   "cell_type": "code",
   "execution_count": 29,
   "id": "19b9e3d8",
   "metadata": {},
   "outputs": [
    {
     "name": "stdout",
     "output_type": "stream",
     "text": [
      "cuda:0\n"
     ]
    }
   ],
   "source": [
    "device = torch.device(\"cuda:0\" if torch.cuda.is_available() else \"cpu\")\n",
    "print(device)"
   ]
  },
  {
   "cell_type": "code",
   "execution_count": 30,
   "id": "9685bc7b",
   "metadata": {},
   "outputs": [
    {
     "name": "stderr",
     "output_type": "stream",
     "text": [
      "/home/milton/miniconda3/envs/torch_teach/lib/python3.10/site-packages/scipy/__init__.py:146: UserWarning: A NumPy version >=1.17.3 and <1.25.0 is required for this version of SciPy (detected version 1.26.4\n",
      "  warnings.warn(f\"A NumPy version >={np_minversion} and <{np_maxversion}\"\n"
     ]
    },
    {
     "data": {
      "image/png": "[encoded data removed]",
      "text/plain": [
       "<Figure size 500x500 with 1 Axes>"
      ]
     },
     "metadata": {},
     "output_type": "display_data"
    }
   ],
   "source": [
    "from sklearn.datasets import make_moons, make_blobs\n",
    "X, y = make_moons(n_samples=100, noise=0.1)\n",
    "# visualize in 2D\n",
    "plt.figure(figsize=(5,5))\n",
    "plt.scatter(X[:,0], X[:,1], c=y, s=20, cmap='jet')\n",
    "plt.show()"
   ]
  },
  {
   "cell_type": "code",
   "execution_count": 31,
   "id": "4bfadc5f",
   "metadata": {},
   "outputs": [
    {
     "data": {
      "text/plain": [
       "device(type='cuda', index=0)"
      ]
     },
     "execution_count": 31,
     "metadata": {},
     "output_type": "execute_result"
    }
   ],
   "source": [
    "# Lets transform them to tensors, and keep only the first to simplify the explanations\n",
    "xs = torch.tensor(X, dtype=torch.float32, device=device)[:5]\n",
    "ys = torch.tensor(y, device=device)[:5]\n",
    "xs.shape, ys.shape\n",
    "ys.device"
   ]
  },
  {
   "cell_type": "code",
   "execution_count": 32,
   "id": "1ad71c6e",
   "metadata": {},
   "outputs": [
    {
     "data": {
      "text/plain": [
       "(tensor([[ 1.1221,  0.0815],\n",
       "         [-0.8188,  0.0588],\n",
       "         [ 1.6137, -0.1246],\n",
       "         [-0.9230,  0.3652],\n",
       "         [ 0.1439,  0.0444]], device='cuda:0'),\n",
       " tensor([0, 0, 1, 0, 1], device='cuda:0'))"
      ]
     },
     "execution_count": 32,
     "metadata": {},
     "output_type": "execute_result"
    }
   ],
   "source": [
    "xs, ys"
   ]
  },
  {
   "cell_type": "code",
   "execution_count": 33,
   "id": "db63c2bf",
   "metadata": {},
   "outputs": [],
   "source": [
    "# Now, lets create a neural network having two hidden layers, with 4 and 5 neurons\n",
    "# Since it is a classification problem, we will use one output layer per class."
   ]
  },
  {
   "cell_type": "code",
   "execution_count": 34,
   "id": "b852951b",
   "metadata": {},
   "outputs": [],
   "source": [
    "g = torch.Generator(device=device).manual_seed(31416+2)\n",
    "W1 = torch.randn((2, 4), generator=g, requires_grad=True, device=device)\n",
    "b1 = torch.randn((1, 4), generator=g, requires_grad=True, device=device)\n",
    "\n",
    "W2 = torch.randn((4, 5), generator=g, requires_grad=True, device=device)\n",
    "b2 = torch.randn((1, 5), generator=g, requires_grad=True, device=device)\n",
    "\n",
    "W3 = torch.randn((5, 2), generator=g, requires_grad=True, device=device)\n",
    "b3 = torch.randn((1, 2), generator=g, requires_grad=True, device=device)\n",
    "\n",
    "parameters = [W1, b1, W2, b2, W3, b3]"
   ]
  },
  {
   "cell_type": "code",
   "execution_count": 35,
   "id": "07d16bb5",
   "metadata": {},
   "outputs": [
    {
     "data": {
      "text/plain": [
       "tensor([[-0.0736,  0.6695],\n",
       "        [ 0.6425, -0.5612],\n",
       "        [-0.0762,  0.7346],\n",
       "        [ 1.0399, -0.8422],\n",
       "        [-0.3261,  0.4933]], device='cuda:0', grad_fn=<AddBackward0>)"
      ]
     },
     "execution_count": 35,
     "metadata": {},
     "output_type": "execute_result"
    }
   ],
   "source": [
    "# forward pass\n",
    "l1_out = (xs @ W1 + b1).tanh()\n",
    "l2_out = (l1_out @ W2 + b2).tanh()\n",
    "l3_out = (l2_out @ W3 + b3)\n",
    "l3_out\n"
   ]
  },
  {
   "cell_type": "code",
   "execution_count": 36,
   "id": "b0b55ecd",
   "metadata": {},
   "outputs": [
    {
     "data": {
      "text/plain": [
       "device(type='cuda', index=0)"
      ]
     },
     "execution_count": 36,
     "metadata": {},
     "output_type": "execute_result"
    }
   ],
   "source": [
    "l3_out.device"
   ]
  },
  {
   "cell_type": "markdown",
   "id": "ca8abcef",
   "metadata": {},
   "source": [
    "We want the output of the network to be class probabilities, so we need to transform the outputs. To be considered as a probability, values must between 0 and 1, and they must add to 1.\n",
    "\n",
    "First, lets apply the exponencial function, to turn all values positive."
   ]
  },
  {
   "cell_type": "code",
   "execution_count": 39,
   "id": "dcc71991",
   "metadata": {},
   "outputs": [
    {
     "data": {
      "text/plain": [
       "tensor([[0.9290, 1.9533],\n",
       "        [1.9013, 0.5705],\n",
       "        [0.9267, 2.0847],\n",
       "        [2.8290, 0.4308],\n",
       "        [0.7217, 1.6377]], device='cuda:0', grad_fn=<ExpBackward0>)"
      ]
     },
     "execution_count": 39,
     "metadata": {},
     "output_type": "execute_result"
    }
   ],
   "source": [
    "l3_out.exp()"
   ]
  },
  {
   "cell_type": "markdown",
   "id": "1a0fcbd2",
   "metadata": {},
   "source": [
    "Now, re-scale the values so they add 1"
   ]
  },
  {
   "cell_type": "code",
   "execution_count": 40,
   "id": "8d92b23c",
   "metadata": {},
   "outputs": [
    {
     "data": {
      "text/plain": [
       "tensor([[0.3223, 0.6777],\n",
       "        [0.7692, 0.2308],\n",
       "        [0.3077, 0.6923],\n",
       "        [0.8679, 0.1321],\n",
       "        [0.3059, 0.6941]], device='cuda:0', grad_fn=<SliceBackward0>)"
      ]
     },
     "execution_count": 40,
     "metadata": {},
     "output_type": "execute_result"
    }
   ],
   "source": [
    "value = l3_out.exp()\n",
    "probs = (value / value.sum(dim=1).unsqueeze(dim=1))\n",
    "probs[:5]"
   ]
  },
  {
   "cell_type": "code",
   "execution_count": null,
   "id": "e6f58249",
   "metadata": {},
   "outputs": [],
   "source": [
    "# Safety check\n",
    "probs.sum(dim=1)"
   ]
  },
  {
   "cell_type": "markdown",
   "id": "f968c4ff",
   "metadata": {},
   "source": [
    "Now we have probabilities as the output of the network. How to create a loss function, using this probabilities.\n",
    "\n",
    "One commonly used idea is to use the maximal likelihood estimation. It estimates the quality of the result by multiplying the probabilities obtained for the correct class."
   ]
  },
  {
   "cell_type": "code",
   "execution_count": 41,
   "id": "8800f07c",
   "metadata": {},
   "outputs": [
    {
     "data": {
      "text/plain": [
       "tensor([[0.3223, 0.6777],\n",
       "        [0.7692, 0.2308],\n",
       "        [0.3077, 0.6923],\n",
       "        [0.8679, 0.1321],\n",
       "        [0.3059, 0.6941]], device='cuda:0', grad_fn=<DivBackward0>)"
      ]
     },
     "metadata": {},
     "output_type": "display_data"
    },
    {
     "data": {
      "text/plain": [
       "tensor([0, 0, 1, 0, 1], device='cuda:0')"
      ]
     },
     "execution_count": 41,
     "metadata": {},
     "output_type": "execute_result"
    }
   ],
   "source": [
    "display(probs)\n",
    "ys"
   ]
  },
  {
   "cell_type": "code",
   "execution_count": 42,
   "id": "856f6c91",
   "metadata": {},
   "outputs": [
    {
     "data": {
      "text/plain": [
       "(tensor(0.3223, device='cuda:0', grad_fn=<SelectBackward0>),\n",
       " tensor(0.2308, device='cuda:0', grad_fn=<SelectBackward0>),\n",
       " tensor(0.3077, device='cuda:0', grad_fn=<SelectBackward0>),\n",
       " tensor(0.1321, device='cuda:0', grad_fn=<SelectBackward0>),\n",
       " tensor(0.6941, device='cuda:0', grad_fn=<SelectBackward0>))"
      ]
     },
     "execution_count": 42,
     "metadata": {},
     "output_type": "execute_result"
    }
   ],
   "source": [
    "# In our case\n",
    "probs[0, 0], probs[1, 1], probs[2, 0], probs[3, 1], probs[4,1]"
   ]
  },
  {
   "cell_type": "code",
   "execution_count": 43,
   "id": "5bc96e82",
   "metadata": {},
   "outputs": [
    {
     "data": {
      "text/plain": [
       "tensor([0.3223, 0.7692, 0.6923, 0.8679, 0.6941], device='cuda:0',\n",
       "       grad_fn=<IndexBackward0>)"
      ]
     },
     "execution_count": 43,
     "metadata": {},
     "output_type": "execute_result"
    }
   ],
   "source": [
    "# How to obtain this probabilities using tensor manipulation: using a type of indexing\n",
    "probs[torch.arange(len(ys)), ys]"
   ]
  },
  {
   "cell_type": "code",
   "execution_count": 44,
   "id": "e58282c1",
   "metadata": {
    "scrolled": true
   },
   "outputs": [
    {
     "data": {
      "text/plain": [
       "tensor(0.1034, device='cuda:0', grad_fn=<ProdBackward0>)"
      ]
     },
     "execution_count": 44,
     "metadata": {},
     "output_type": "execute_result"
    }
   ],
   "source": [
    "# lets multiply them\n",
    "likelihood = probs[torch.arange(len(ys)), ys].prod()\n",
    "likelihood"
   ]
  },
  {
   "cell_type": "markdown",
   "id": "8512039d",
   "metadata": {},
   "source": [
    "This is a quite small number, and we only have 5 results ... imagine when we have 100s\n",
    "\n",
    "Solution, use the logarithms, and average the results"
   ]
  },
  {
   "cell_type": "code",
   "execution_count": 45,
   "id": "255acccc",
   "metadata": {},
   "outputs": [
    {
     "data": {
      "text/plain": [
       "tensor(-0.4539, device='cuda:0', grad_fn=<MeanBackward0>)"
      ]
     },
     "execution_count": 45,
     "metadata": {},
     "output_type": "execute_result"
    }
   ],
   "source": [
    "log_likelihood = probs[torch.arange(len(ys)), ys].log().mean()\n",
    "log_likelihood"
   ]
  },
  {
   "cell_type": "markdown",
   "id": "45513f5e",
   "metadata": {},
   "source": [
    "Since likelihood is higher (so log_likelihood) in better results, and we need a loss function, we will invert the sign.\n",
    "\n",
    "**Note:** All performed operations are derivables!"
   ]
  },
  {
   "cell_type": "code",
   "execution_count": 46,
   "id": "677498b6",
   "metadata": {},
   "outputs": [
    {
     "data": {
      "text/plain": [
       "tensor(0.4539, device='cuda:0', grad_fn=<NegBackward0>)"
      ]
     },
     "execution_count": 46,
     "metadata": {},
     "output_type": "execute_result"
    }
   ],
   "source": [
    "nll = - log_likelihood\n",
    "nll"
   ]
  },
  {
   "cell_type": "markdown",
   "id": "4fbeaef1",
   "metadata": {},
   "source": [
    "Lets put it all together"
   ]
  },
  {
   "cell_type": "code",
   "execution_count": 47,
   "id": "f347ea0d",
   "metadata": {},
   "outputs": [],
   "source": [
    "xs = torch.tensor(X, dtype=torch.float32, device=device)\n",
    "ys = torch.tensor(y, device=device)"
   ]
  },
  {
   "cell_type": "code",
   "execution_count": 48,
   "id": "6b309845",
   "metadata": {},
   "outputs": [],
   "source": [
    "g = torch.Generator(device=device).manual_seed(31416+2)\n",
    "W1 = torch.randn((2, 4), generator=g, requires_grad=True, device=device)\n",
    "b1 = torch.randn((1, 4), generator=g, requires_grad=True, device=device)\n",
    "\n",
    "W2 = torch.randn((4, 5), generator=g, requires_grad=True, device=device)\n",
    "b2 = torch.randn((1, 5), generator=g, requires_grad=True, device=device)\n",
    "\n",
    "W3 = torch.randn((5, 2), generator=g, requires_grad=True, device=device)\n",
    "b3 = torch.randn((1, 2), generator=g, requires_grad=True, device=device)\n",
    "\n",
    "parameters = [W1, b1, W2, b2, W3, b3]"
   ]
  },
  {
   "cell_type": "code",
   "execution_count": 49,
   "id": "6a1c4107",
   "metadata": {
    "scrolled": true
   },
   "outputs": [
    {
     "name": "stdout",
     "output_type": "stream",
     "text": [
      "Epoch 0, loss=0.5822694897651672\n",
      "Epoch 100, loss=0.2568088173866272\n",
      "Epoch 200, loss=0.2104198932647705\n",
      "Epoch 300, loss=0.15599974989891052\n",
      "Epoch 400, loss=0.11313247680664062\n",
      "Epoch 500, loss=0.08427612483501434\n",
      "Epoch 600, loss=0.06375759094953537\n",
      "Epoch 700, loss=0.04834745451807976\n",
      "Epoch 800, loss=0.036784399300813675\n",
      "Epoch 900, loss=0.028278043493628502\n",
      "Epoch 1000, loss=0.022072605788707733\n",
      "Epoch 1100, loss=0.017521420493721962\n",
      "Epoch 1200, loss=0.014145038090646267\n",
      "Epoch 1300, loss=0.011608017608523369\n",
      "Epoch 1400, loss=0.009676681831479073\n",
      "Epoch 1500, loss=0.008186698891222477\n",
      "Epoch 1600, loss=0.007021399214863777\n",
      "Epoch 1700, loss=0.0060973805375397205\n",
      "Epoch 1800, loss=0.005354690365493298\n",
      "Epoch 1900, loss=0.004749874118715525\n",
      "0.004255752079188824\n"
     ]
    }
   ],
   "source": [
    "learning_rate = 0.1\n",
    "epochs = 2000\n",
    "\n",
    "for epoch in range(epochs):\n",
    "    # forward pass\n",
    "    l1_out = (xs @ W1 + b1).tanh()\n",
    "    l2_out = (l1_out @ W2 + b2).tanh()\n",
    "    l3_out = (l2_out @ W3 + b3)\n",
    "    value = l3_out.exp()\n",
    "    probs = (value / value.sum(dim=1).unsqueeze(dim=1))\n",
    "    log_likelihood = probs[torch.arange(len(ys)), ys].log().mean()\n",
    "    loss = -log_likelihood\n",
    "    \n",
    "    if epoch % 100 == 0:\n",
    "        print(f\"Epoch {epoch}, loss={loss.item()}\")\n",
    "    \n",
    "    # backward pass, need to remove the gradients\n",
    "    for p in parameters:\n",
    "        p.grad = None\n",
    "    loss.backward()\n",
    "\n",
    "    # update parameters\n",
    "    for p in parameters:\n",
    "        p.data += -learning_rate * p.grad\n",
    "print(loss.item())"
   ]
  },
  {
   "cell_type": "code",
   "execution_count": 50,
   "id": "ba4b7985",
   "metadata": {},
   "outputs": [
    {
     "data": {
      "text/plain": [
       "tensor([True, True, True, True, True, True, True, True, True, True, True, True,\n",
       "        True, True, True, True, True, True, True, True, True, True, True, True,\n",
       "        True, True, True, True, True, True, True, True, True, True, True, True,\n",
       "        True, True, True, True, True, True, True, True, True, True, True, True,\n",
       "        True, True, True, True, True, True, True, True, True, True, True, True,\n",
       "        True, True, True, True, True, True, True, True, True, True, True, True,\n",
       "        True, True, True, True, True, True, True, True, True, True, True, True,\n",
       "        True, True, True, True, True, True, True, True, True, True, True, True,\n",
       "        True, True, True, True], device='cuda:0')"
      ]
     },
     "execution_count": 50,
     "metadata": {},
     "output_type": "execute_result"
    }
   ],
   "source": [
    "# Lets calculate the classifier accuracy\n",
    "probs[torch.arange(len(ys)), ys] > 0.5"
   ]
  },
  {
   "cell_type": "markdown",
   "id": "360a6633",
   "metadata": {},
   "source": [
    "The classifier commits no mistakes, so it's accuracy is 1.0. \n",
    "\n",
    "Lets plot the decision boundary"
   ]
  },
  {
   "cell_type": "code",
   "execution_count": 51,
   "id": "584beabb",
   "metadata": {
    "scrolled": true
   },
   "outputs": [
    {
     "data": {
      "text/plain": [
       "array([[-2.02219391, -1.5486393 ],\n",
       "       [-1.77219391, -1.5486393 ],\n",
       "       [-1.52219391, -1.5486393 ],\n",
       "       [-1.27219391, -1.5486393 ],\n",
       "       [-1.02219391, -1.5486393 ],\n",
       "       [-0.77219391, -1.5486393 ],\n",
       "       [-0.52219391, -1.5486393 ],\n",
       "       [-0.27219391, -1.5486393 ],\n",
       "       [-0.02219391, -1.5486393 ],\n",
       "       [ 0.22780609, -1.5486393 ]])"
      ]
     },
     "execution_count": 51,
     "metadata": {},
     "output_type": "execute_result"
    }
   ],
   "source": [
    "h = 0.25\n",
    "x_min, x_max = X[:, 0].min() - 1, X[:, 0].max() + 1\n",
    "y_min, y_max = X[:, 1].min() - 1, X[:, 1].max() + 1\n",
    "xx, yy = np.meshgrid(np.arange(x_min, x_max, h),\n",
    "                     np.arange(y_min, y_max, h))\n",
    "Xmesh = np.c_[xx.ravel(), yy.ravel()]\n",
    "Xmesh[:10]"
   ]
  },
  {
   "cell_type": "code",
   "execution_count": 52,
   "id": "f3e7822b",
   "metadata": {
    "scrolled": true
   },
   "outputs": [
    {
     "data": {
      "text/plain": [
       "tensor([[0.8806, 0.1194],\n",
       "        [0.8798, 0.1202],\n",
       "        [0.8252, 0.1748],\n",
       "        [0.1287, 0.8713],\n",
       "        [0.1195, 0.8805]], device='cuda:0', grad_fn=<SliceBackward0>)"
      ]
     },
     "execution_count": 52,
     "metadata": {},
     "output_type": "execute_result"
    }
   ],
   "source": [
    "xs_full = torch.tensor(Xmesh, device=device).float()\n",
    "l1_out = (xs_full @ W1 + b1).tanh()\n",
    "l2_out = (l1_out @ W2 + b2).tanh()\n",
    "l3_out = (l2_out @ W3 + b3).tanh()\n",
    "value = l3_out.exp()\n",
    "probs = (value / value.sum(dim=1).unsqueeze(dim=1))\n",
    "probs[:5]"
   ]
  },
  {
   "cell_type": "code",
   "execution_count": 53,
   "id": "ef3f7e12",
   "metadata": {},
   "outputs": [
    {
     "data": {
      "text/plain": [
       "tensor([0, 0, 0, 1, 1, 1, 1, 1, 1, 1, 1, 1, 1, 1, 1, 1, 1, 1, 1, 1, 1, 0, 0, 0,\n",
       "        1, 1, 1, 1, 1, 1, 1, 1, 1, 1, 1, 1, 1, 1, 1, 1, 1, 1, 0, 0, 0, 0, 1, 1,\n",
       "        1, 1, 1, 1, 1, 1, 1, 1, 1, 1, 1, 1, 1, 1, 1, 0, 0, 0, 0, 1, 1, 1, 1, 1,\n",
       "        1, 1, 1, 1, 1, 1, 1, 1, 1, 1, 1, 1, 0, 0, 0, 0, 0, 1, 1, 1, 1, 1, 1, 1,\n",
       "        1, 1, 1, 1, 1, 1, 1, 1, 1, 0, 0, 0, 0, 0, 1, 1, 1, 1, 1, 1, 1, 1, 1, 1,\n",
       "        1, 1, 1, 1, 1, 1, 0, 0, 0, 0, 0, 0, 1, 1, 1, 1, 1, 0, 0, 0, 1, 1, 1, 1,\n",
       "        1, 1, 1, 0, 0, 0, 0, 0, 0, 0, 1, 1, 1, 1, 0, 0, 0, 0, 1, 1, 1, 1, 1, 1,\n",
       "        0, 0, 0, 0, 0, 0, 0, 1, 1, 1, 0, 0, 0, 0, 0, 0, 1, 1, 1, 1, 1, 0, 0, 0,\n",
       "        0, 0, 0, 0, 0, 0, 0, 0, 0, 0, 0, 0, 0, 0, 1, 1, 1, 1, 0, 0, 0, 0, 0, 0,\n",
       "        0, 0, 0, 0, 0, 0, 0, 0, 0, 0, 0, 0, 1, 1, 1, 0, 0, 0, 0, 0, 0, 0, 0, 0,\n",
       "        0, 0, 0, 0, 0, 0, 0, 0, 0, 0, 1, 1, 0, 0, 0, 0, 0, 0, 0, 0, 0, 0, 0, 0,\n",
       "        0, 0, 0, 0, 0, 0, 0, 0, 1, 0, 0, 0, 0, 0, 0, 0, 0, 0, 0, 0, 0, 0, 0, 0,\n",
       "        0, 0, 0, 0, 0, 0, 0, 0, 0, 0, 0, 0, 0, 0, 0, 0, 0, 0, 0, 0, 0, 0, 0, 0,\n",
       "        0, 0, 0], device='cuda:0')"
      ]
     },
     "execution_count": 53,
     "metadata": {},
     "output_type": "execute_result"
    }
   ],
   "source": [
    "scores = torch.max(probs, dim=1).indices\n",
    "scores"
   ]
  },
  {
   "cell_type": "code",
   "execution_count": 54,
   "id": "e0c23c91",
   "metadata": {},
   "outputs": [
    {
     "data": {
      "text/plain": [
       "(-1.548639298268643, 1.951360701731357)"
      ]
     },
     "execution_count": 54,
     "metadata": {},
     "output_type": "execute_result"
    },
    {
     "data": {
      "image/png": "[encoded data removed]",
      "text/plain": [
       "<Figure size 640x480 with 1 Axes>"
      ]
     },
     "metadata": {},
     "output_type": "display_data"
    }
   ],
   "source": [
    "Z = np.array([s.data > 0 for s in scores.cpu()])\n",
    "Z = Z.reshape(xx.shape)\n",
    "\n",
    "fig = plt.figure()\n",
    "plt.contourf(xx, yy, Z, cmap=plt.cm.Spectral, alpha=0.8)\n",
    "plt.scatter(X[:, 0], X[:, 1], c=y, s=40, cmap=plt.cm.Spectral)\n",
    "plt.xlim(xx.min(), xx.max())\n",
    "plt.ylim(yy.min(), yy.max())"
   ]
  },
  {
   "cell_type": "markdown",
   "id": "8dc39730",
   "metadata": {},
   "source": [
    "### Use modules in torch.nn"
   ]
  },
  {
   "cell_type": "code",
   "execution_count": 55,
   "id": "0b8ca046",
   "metadata": {},
   "outputs": [
    {
     "data": {
      "text/plain": [
       "tensor(0.7303, device='cuda:0', grad_fn=<NllLossBackward0>)"
      ]
     },
     "execution_count": 55,
     "metadata": {},
     "output_type": "execute_result"
    }
   ],
   "source": [
    "import torch.nn as nn\n",
    "import torch.nn.functional as F\n",
    "\n",
    "xs = torch.tensor(X, dtype=torch.float32, device=device)\n",
    "ys = torch.tensor(y, device=device)\n",
    "\n",
    "# Using torch fully connected layers\n",
    "l1 = nn.Linear(in_features=2, out_features=4, device=device)\n",
    "l2 = nn.Linear(in_features=4, out_features=5, device=device)\n",
    "l3 = nn.Linear(in_features=5, out_features=2, device=device)\n",
    "parameters = list(l1.parameters()) + list(l2.parameters()) + list(l3.parameters())\n",
    "\n",
    "x = l1(xs).tanh()\n",
    "x = l2(x).tanh()\n",
    "x = l3(x)\n",
    "\n",
    "# soft-max layer + entropy loss = cross_entropy\n",
    "loss = F.cross_entropy(x, ys)\n",
    "loss"
   ]
  },
  {
   "cell_type": "code",
   "execution_count": 56,
   "id": "ba0a5c45",
   "metadata": {},
   "outputs": [
    {
     "name": "stdout",
     "output_type": "stream",
     "text": [
      "Epoch 0, loss=0.7302747964859009\n",
      "Epoch 1000, loss=0.26329442858695984\n",
      "Epoch 2000, loss=0.012055945582687855\n",
      "Epoch 3000, loss=0.0037185701075941324\n",
      "Epoch 4000, loss=0.0019225141732022166\n",
      "Epoch 5000, loss=0.0012272953754290938\n",
      "Epoch 6000, loss=0.0008768537663854659\n",
      "Epoch 7000, loss=0.0006712847389280796\n",
      "Epoch 8000, loss=0.0005382896633818746\n",
      "Epoch 9000, loss=0.0004461746721062809\n",
      "Epoch 10000, loss=0.00037907049409113824\n",
      "Epoch 11000, loss=0.00032829170231707394\n",
      "Epoch 12000, loss=0.00028867225046269596\n",
      "Epoch 13000, loss=0.00025700294645503163\n",
      "Epoch 14000, loss=0.00023116842203307897\n",
      "Epoch 15000, loss=0.0002097382239298895\n",
      "Epoch 16000, loss=0.00019170111045241356\n",
      "Epoch 17000, loss=0.00017633075185585767\n",
      "Epoch 18000, loss=0.0001630927436053753\n",
      "Epoch 19000, loss=0.00015157902089413255\n",
      "0.0001415098231518641\n"
     ]
    }
   ],
   "source": [
    "learning_rate = 0.1\n",
    "epochs = 20000\n",
    "\n",
    "for epoch in range(epochs):\n",
    "    \n",
    "    # forward pass\n",
    "    x = l1(xs).tanh()\n",
    "    x = l2(x).tanh()\n",
    "    x = l3(x)\n",
    "    loss = F.cross_entropy(x, ys)\n",
    "    \n",
    "    if epoch % 1000 == 0:\n",
    "        print(f\"Epoch {epoch}, loss={loss.item()}\")\n",
    "    \n",
    "    # backward pass, need to remove the gradients\n",
    "    for p in parameters:\n",
    "        p.grad = None\n",
    "    loss.backward()\n",
    "\n",
    "    # update parameters\n",
    "    for p in parameters:\n",
    "        p.data += -learning_rate * p.grad\n",
    "        \n",
    "print(loss.item())"
   ]
  },
  {
   "cell_type": "markdown",
   "id": "a9a06513",
   "metadata": {},
   "source": [
    "Lets put in into a more compacted version, using Sequential, and an optimizer"
   ]
  },
  {
   "cell_type": "code",
   "execution_count": 57,
   "id": "d678bc85",
   "metadata": {},
   "outputs": [
    {
     "name": "stdout",
     "output_type": "stream",
     "text": [
      "Epoch 0, loss=0.7949962019920349\n",
      "Epoch 1000, loss=0.022130683064460754\n",
      "Epoch 2000, loss=0.005628710612654686\n",
      "Epoch 3000, loss=0.0027956049889326096\n",
      "Epoch 4000, loss=0.0017496825894340873\n",
      "Epoch 5000, loss=0.0012333247577771544\n",
      "Epoch 6000, loss=0.0009344539721496403\n",
      "Epoch 7000, loss=0.0007430734694935381\n",
      "Epoch 8000, loss=0.0006116260192357004\n",
      "Epoch 9000, loss=0.0005165775073692203\n",
      "0.0004451643908396363\n"
     ]
    }
   ],
   "source": [
    "xs = torch.tensor(X, dtype=torch.float32, device=device)\n",
    "ys = torch.tensor(y, device=device)\n",
    "\n",
    "# Define the model using nn.Sequential\n",
    "model = nn.Sequential(\n",
    "    nn.Linear(2, 4, device=device), nn.Tanh(),\n",
    "    nn.Linear(4, 5, device=device), nn.Tanh(),\n",
    "    nn.Linear(5, 2, device=device)\n",
    ")\n",
    "\n",
    "# Define the optimizer\n",
    "optimizer = torch.optim.SGD(model.parameters(), lr=0.1)\n",
    "epochs = 10000\n",
    "\n",
    "for epoch in range(epochs):\n",
    "    \n",
    "    # Forward pass\n",
    "    x = model(xs)\n",
    "    loss = F.cross_entropy(x, ys)\n",
    "    \n",
    "    if epoch % 1000 == 0:\n",
    "        print(f\"Epoch {epoch}, loss={loss.item()}\")\n",
    "    \n",
    "    # Backward pass\n",
    "    optimizer.zero_grad()\n",
    "    loss.backward()\n",
    "\n",
    "    # Update parameters\n",
    "    optimizer.step()\n",
    "        \n",
    "print(loss.item())\n"
   ]
  },
  {
   "cell_type": "markdown",
   "id": "f18d35a0",
   "metadata": {},
   "source": [
    "Here we used an optimizer, that performs the update operation faster and smartly, together with the zero_grad() operation.\n",
    "\n",
    "There is other way to create the network, subclassing the Module class."
   ]
  },
  {
   "cell_type": "code",
   "execution_count": 58,
   "id": "c9510faa",
   "metadata": {},
   "outputs": [
    {
     "name": "stdout",
     "output_type": "stream",
     "text": [
      "Epoch 0, loss=0.6942527294158936\n",
      "Epoch 100, loss=0.3072017729282379\n",
      "Epoch 200, loss=0.2892119288444519\n",
      "Epoch 300, loss=0.2863970398902893\n",
      "Epoch 400, loss=0.28454163670539856\n",
      "Epoch 500, loss=0.28312432765960693\n",
      "Epoch 600, loss=0.28198695182800293\n",
      "Epoch 700, loss=0.28102701902389526\n",
      "Epoch 800, loss=0.2801797389984131\n",
      "Epoch 900, loss=0.27940434217453003\n",
      "Epoch 1000, loss=0.27867352962493896\n",
      "Epoch 1100, loss=0.2779683768749237\n",
      "Epoch 1200, loss=0.27727553248405457\n",
      "Epoch 1300, loss=0.2765851318836212\n",
      "Epoch 1400, loss=0.27589038014411926\n",
      "Epoch 1500, loss=0.2751862406730652\n",
      "Epoch 1600, loss=0.2744693458080292\n",
      "Epoch 1700, loss=0.2737365961074829\n",
      "Epoch 1800, loss=0.27298468351364136\n",
      "Epoch 1900, loss=0.27220889925956726\n",
      "0.27140942215919495\n"
     ]
    }
   ],
   "source": [
    "\n",
    "# Define the custom model class\n",
    "class MyModel(nn.Module):\n",
    "    def __init__(self):\n",
    "        super(MyModel, self).__init__()\n",
    "        self.layer1 = nn.Linear(2, 4, device=device)\n",
    "        self.layer2 = nn.Linear(4, 5, device=device)\n",
    "        self.layer3 = nn.Linear(5, 2, device=device)\n",
    "\n",
    "    def forward(self, xs):\n",
    "        x = self.layer1(xs).tanh()\n",
    "        x = self.layer2(x).tanh()\n",
    "        x = self.layer3(x)\n",
    "        return x\n",
    "\n",
    "# Instantiate the model\n",
    "model = MyModel()\n",
    "\n",
    "xs = torch.tensor(X, dtype=torch.float32, device=device)\n",
    "ys = torch.tensor(y, device=device)\n",
    "\n",
    "# Define the optimizer\n",
    "optimizer = torch.optim.SGD(model.parameters(), lr=0.1)\n",
    "\n",
    "epochs = 2000\n",
    "\n",
    "for epoch in range(epochs):\n",
    "    # Forward pass\n",
    "    outputs = model(xs)\n",
    "    loss = F.cross_entropy(outputs, ys)\n",
    "    \n",
    "    if epoch % 100 == 0:\n",
    "        print(f\"Epoch {epoch}, loss={loss.item()}\")\n",
    "    \n",
    "    # Backward pass\n",
    "    optimizer.zero_grad()\n",
    "    loss.backward()\n",
    "\n",
    "    # Update parameters\n",
    "    optimizer.step()\n",
    "        \n",
    "print(loss.item())\n"
   ]
  },
  {
   "cell_type": "markdown",
   "id": "3f7be8aa",
   "metadata": {},
   "source": [
    "# Some unfrequent uses of torch autograd\n",
    "\n",
    "## KNN"
   ]
  },
  {
   "cell_type": "code",
   "execution_count": 59,
   "id": "4adae5d8",
   "metadata": {},
   "outputs": [],
   "source": [
    "import torch\n",
    "\n",
    "class KMeansTorch:\n",
    "    def __init__(self, n_clusters, max_iters=100, tol=1e-4, lr=0.01):\n",
    "        self.n_clusters = n_clusters\n",
    "        self.max_iters = max_iters\n",
    "        self.tol = tol\n",
    "        self.lr = lr\n",
    "\n",
    "    def fit(self, X):\n",
    "        # Randomly initialize the centroids as k random samples from X\n",
    "        indices = torch.randperm(X.size(0))[:self.n_clusters]\n",
    "        self.centroids = X[indices]\n",
    "        self.centroids.requires_grad = True  # Enable gradients for centroids\n",
    "\n",
    "        optimizer = torch.optim.Adam([self.centroids], lr=self.lr)\n",
    "\n",
    "        for i in range(self.max_iters):\n",
    "            # Assign each point to the nearest centroid\n",
    "            distances = torch.cdist(X, self.centroids, p=2)\n",
    "            cluster_assignments = torch.argmin(distances, dim=1)\n",
    "\n",
    "            # Compute the loss (sum of squared distances)\n",
    "            loss = 0\n",
    "            for k in range(self.n_clusters):\n",
    "                loss += ((X[cluster_assignments == k] - self.centroids[k]) ** 2).sum()\n",
    "\n",
    "            optimizer.zero_grad()\n",
    "            loss.backward()\n",
    "            optimizer.step()\n",
    "\n",
    "            # Check for convergence (if centroids do not change significantly)\n",
    "            with torch.no_grad():\n",
    "                if i > 0 and prev_loss - loss.item() < self.tol:\n",
    "                    break\n",
    "                prev_loss = loss.item()\n",
    "\n",
    "        self.labels_ = cluster_assignments.detach()\n",
    "        return self\n",
    "\n",
    "    def predict(self, X):\n",
    "        distances = torch.cdist(X, self.centroids, p=2)\n",
    "        return torch.argmin(distances, dim=1)"
   ]
  },
  {
   "cell_type": "code",
   "execution_count": 60,
   "id": "3e94f903",
   "metadata": {},
   "outputs": [],
   "source": [
    "# Function to generate 2D Gaussian data\n",
    "def generate_2d_gaussian(mean, cov, num_samples):\n",
    "    return np.random.multivariate_normal(mean, cov, num_samples)\n",
    "\n",
    "# Means and covariances for the Gaussians\n",
    "means = [[2, 2], [8, 3], [5, 7]]\n",
    "covs = [[[1, 0.5], [0.5, 1]], [[1, -0.7], [-0.7, 1]], [[1, 0.3], [0.3, 1]]]\n",
    "\n",
    "# Generate samples\n",
    "num_samples = 100\n",
    "data = np.vstack([generate_2d_gaussian(mean, cov, num_samples) for mean, cov in zip(means, covs)])\n",
    "\n",
    "# Convert to PyTorch tensor\n",
    "X = torch.tensor(data, dtype=torch.float32, device=device)\n"
   ]
  },
  {
   "cell_type": "code",
   "execution_count": 61,
   "id": "657fde06",
   "metadata": {},
   "outputs": [
    {
     "data": {
      "image/png": "[encoded data removed]",
      "text/plain": [
       "<Figure size 640x480 with 1 Axes>"
      ]
     },
     "metadata": {},
     "output_type": "display_data"
    }
   ],
   "source": [
    "# Plot the generated data points\n",
    "plt.scatter(data[:, 0], data[:, 1], s=10)\n",
    "plt.title(\"Generated 2D Gaussian Data\")\n",
    "plt.xlabel(\"X1\")\n",
    "plt.ylabel(\"X2\")\n",
    "plt.show()\n"
   ]
  },
  {
   "cell_type": "code",
   "execution_count": 62,
   "id": "242de17c",
   "metadata": {},
   "outputs": [
    {
     "data": {
      "text/plain": [
       "<__main__.KMeansTorch at 0x7f7b80e47b50>"
      ]
     },
     "execution_count": 62,
     "metadata": {},
     "output_type": "execute_result"
    }
   ],
   "source": [
    "kmeans = KMeansTorch(n_clusters=3, max_iters=1000, lr=0.01)\n",
    "kmeans.fit(X)"
   ]
  },
  {
   "cell_type": "code",
   "execution_count": 63,
   "id": "edd2b3a8",
   "metadata": {},
   "outputs": [
    {
     "data": {
      "image/png": "[encoded data removed]",
      "text/plain": [
       "<Figure size 640x480 with 1 Axes>"
      ]
     },
     "metadata": {},
     "output_type": "display_data"
    }
   ],
   "source": [
    "# Plot the clustered data points\n",
    "plt.scatter(data[:, 0], data[:, 1], c=kmeans.labels_.cpu(), s=10, cmap='viridis')\n",
    "plt.scatter(kmeans.centroids[:, 0].detach().cpu().numpy(), \n",
    "            kmeans.centroids[:, 1].detach().cpu().numpy(), \n",
    "            s=100, c='red', label='Centroids')\n",
    "plt.title(\"KMeans Clustering with PyTorch\")\n",
    "plt.xlabel(\"X1\")\n",
    "plt.ylabel(\"X2\")\n",
    "plt.legend()\n",
    "plt.show()\n"
   ]
  },
  {
   "cell_type": "markdown",
   "id": "1f5ef96c",
   "metadata": {},
   "source": [
    "## PCA"
   ]
  },
  {
   "cell_type": "code",
   "execution_count": 64,
   "id": "2061343b",
   "metadata": {},
   "outputs": [
    {
     "name": "stdout",
     "output_type": "stream",
     "text": [
      "Iteration 0, Loss: -2.730544090270996\n",
      "Iteration 100, Loss: -0.10551180690526962\n",
      "Iteration 200, Loss: -0.005215113516896963\n",
      "Iteration 300, Loss: -0.00030530968797393143\n",
      "Iteration 400, Loss: -1.9523718947311863e-05\n",
      "Iteration 500, Loss: -1.298993424825312e-06\n",
      "Iteration 600, Loss: -8.789064764869181e-08\n",
      "Iteration 700, Loss: -5.988500806353159e-09\n",
      "Iteration 800, Loss: -4.092266525645982e-10\n",
      "Iteration 900, Loss: -2.7999031912417927e-11\n",
      "Principal Component: [-0.800648   -0.4372556   0.30298597 -0.21899669 -0.16736259]\n"
     ]
    }
   ],
   "source": [
    "# Generate synthetic data\n",
    "np.random.seed(42)\n",
    "data = np.random.randn(100, 5)\n",
    "X = torch.tensor(data, dtype=torch.float32)\n",
    "\n",
    "# Initialize the principal component vector (random)\n",
    "w = torch.randn(X.size(1), requires_grad=True)\n",
    "\n",
    "# Learning rate and iterations\n",
    "lr = 0.01\n",
    "iterations = 1000\n",
    "\n",
    "# Gradient descent to find the principal component\n",
    "for i in range(iterations):\n",
    "    # Project the data onto the principal component vector\n",
    "    projected = X @ w\n",
    "\n",
    "    # Compute the loss (negative variance)\n",
    "    loss = -torch.var(projected)\n",
    "\n",
    "    # Backward pass and optimization\n",
    "    loss.backward()\n",
    "\n",
    "    with torch.no_grad():\n",
    "        w += lr * w.grad\n",
    "        w.grad.zero_()\n",
    "    \n",
    "    if i % 100 == 0:\n",
    "        print(f\"Iteration {i}, Loss: {loss.item()}\")\n",
    "\n",
    "# Normalize the principal component vector\n",
    "principal_component = w / torch.norm(w)\n",
    "print(\"Principal Component:\", principal_component.detach().numpy())\n"
   ]
  },
  {
   "cell_type": "markdown",
   "id": "17206b27",
   "metadata": {},
   "source": [
    "## Linear regression"
   ]
  },
  {
   "cell_type": "code",
   "execution_count": 65,
   "id": "bdffb6ac",
   "metadata": {},
   "outputs": [
    {
     "name": "stdout",
     "output_type": "stream",
     "text": [
      "Iteration 0, Loss: 8.708795547485352\n",
      "Iteration 100, Loss: 0.7752379775047302\n",
      "Iteration 200, Loss: 0.7727672457695007\n",
      "Iteration 300, Loss: 0.7726246118545532\n",
      "Iteration 400, Loss: 0.7726162672042847\n",
      "Iteration 500, Loss: 0.7726158499717712\n",
      "Iteration 600, Loss: 0.7726157903671265\n",
      "Iteration 700, Loss: 0.7726157903671265\n",
      "Iteration 800, Loss: 0.7726158499717712\n",
      "Iteration 900, Loss: 0.7726158499717712\n",
      "Learned weights: 3.198687863914529e-06\n",
      "Learned bias: 3.4104321002960205\n"
     ]
    },
    {
     "name": "stderr",
     "output_type": "stream",
     "text": [
      "/tmp/ipykernel_76830/1637778878.py:25: UserWarning: Using a target size (torch.Size([100, 1])) that is different to the input size (torch.Size([100])). This will likely lead to incorrect results due to broadcasting. Please ensure they have the same size.\n",
      "  loss = F.mse_loss(y_pred, y)\n"
     ]
    }
   ],
   "source": [
    "import torch\n",
    "\n",
    "# Generate synthetic data\n",
    "np.random.seed(42)\n",
    "X_np = np.random.rand(100, 1)\n",
    "y_np = 3 * X_np.squeeze() + 2 + 0.1 * np.random.randn(100)\n",
    "\n",
    "X = torch.tensor(X_np, dtype=torch.float32)\n",
    "y = torch.tensor(y_np, dtype=torch.float32).view(-1, 1)\n",
    "\n",
    "# Initialize weights and bias\n",
    "w = torch.randn(1, requires_grad=True)\n",
    "b = torch.randn(1, requires_grad=True)\n",
    "\n",
    "# Learning rate and iterations\n",
    "lr = 0.1\n",
    "iterations = 1000\n",
    "\n",
    "# Gradient descent for linear regression\n",
    "for i in range(iterations):\n",
    "    # Compute predictions\n",
    "    y_pred = X @ w + b\n",
    "\n",
    "    # Compute the loss (mean squared error)\n",
    "    loss = F.mse_loss(y_pred, y)\n",
    "\n",
    "    # Backward pass and optimization\n",
    "    loss.backward()\n",
    "\n",
    "    with torch.no_grad():\n",
    "        w -= lr * w.grad\n",
    "        b -= lr * b.grad\n",
    "        w.grad.zero_()\n",
    "        b.grad.zero_()\n",
    "    \n",
    "    if i % 100 == 0:\n",
    "        print(f\"Iteration {i}, Loss: {loss.item()}\")\n",
    "\n",
    "print(\"Learned weights:\", w.item())\n",
    "print(\"Learned bias:\", b.item())\n"
   ]
  },
  {
   "cell_type": "markdown",
   "id": "1eed3a21",
   "metadata": {},
   "source": [
    "##"
   ]
  },
  {
   "cell_type": "markdown",
   "id": "09711dea",
   "metadata": {},
   "source": []
  }
 ],
 "metadata": {
  "kernelspec": {
   "display_name": "python_lectures",
   "language": "python",
   "name": "python3"
  },
  "language_info": {
   "codemirror_mode": {
    "name": "ipython",
    "version": 3
   },
   "file_extension": ".py",
   "mimetype": "text/x-python",
   "name": "python",
   "nbconvert_exporter": "python",
   "pygments_lexer": "ipython3",
   "version": "3.10.14"
  }
 },
 "nbformat": 4,
 "nbformat_minor": 5
}
