{
 "cells": [
  {
   "cell_type": "markdown",
   "metadata": {},
   "source": [
    "# Lecture 5. Introduction to Computer Vision\n",
    "\n",
    "- [Introduction to Torch](intro_torch.ipynb)\n",
    "- [Introduction to Torch Tensors](torch_tensors.ipynb)\n",
    "- [Introduction to OpenCV framework](opencv_intro.ipynb)\n",
    "- [Convolutional Neural Networks (CNNs)](cnn.ipynb)"
   ]
  },
  {
   "cell_type": "markdown",
   "metadata": {},
   "source": []
  }
 ],
 "metadata": {
  "language_info": {
   "name": "python"
  }
 },
 "nbformat": 4,
 "nbformat_minor": 2
}
