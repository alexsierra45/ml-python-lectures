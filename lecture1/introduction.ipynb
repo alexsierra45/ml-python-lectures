{
 "cells": [
  {
   "cell_type": "markdown",
   "metadata": {},
   "source": [
    "# Introducción al curso\n",
    "\n",
    "## Python\n",
    "\n",
    "Designed by\tGuido van Rossum \n",
    "\n",
    "<img src=\"images/rossum.jpg\" alt=\"Guido van Rossum\" style=\"width:100px; height:auto;\">\n",
    "\n",
    "- Multi-paradigm: object-oriented, procedural (imperative), functional\n",
    "\n",
    "- Developer: Python Software Foundation\n",
    "\n",
    "- First appeared:\t20 February 1991; 33 years ago\n",
    "\n",
    "- Stable release:\t3.13.0\n",
    "\n",
    "- Typing discipline: duck, dynamic, strong; optional type annotations (since 3.5, but those hints are ignored, except with unofficial tools)"
   ]
  },
  {
   "cell_type": "markdown",
   "metadata": {},
   "source": [
    "## Why Python (ChatGPT)?\n",
    "\n",
    "1. Readability and Simplicity\n",
    "    - Clear Syntax\n",
    "    - Ease of Learning\n",
    "2. Versatility and Flexibility\n",
    "    - Wide Range of Applications\n",
    "    - Cross-Platform Compatibility\n",
    "3. Extensive Libraries and Frameworks\n",
    "    - Rich Standard Library\n",
    "    - Third-Party Libraries\n",
    "4. Strong Community Support\n",
    "    - Active Community.\n",
    "    - Abundant Resources\n",
    "5. Integration Capabilities\n",
    "    - Interoperability with other languages and techs"
   ]
  },
  {
   "cell_type": "markdown",
   "metadata": {},
   "source": [
    "## De qué se trata este curso?\n",
    "- Resolver problemas de Machine Learning utilizando Python y sus bibliotecas, en particular Torch.\n",
    "    - Introducción a Python hasta nivel intermedio. \n",
    "    - Conceptos fundamentales de Machine Learning\n",
    "    - Redes neuronales profundas:\n",
    "        - Torch y tensores\n",
    "        - Componentes fundamentales y algoritmos\n",
    "        - Tareas, arquitecturas, características, usos\n",
    "        - Aplicaciones\n",
    "- En las clases, componentes:\n",
    "    - Teórico\n",
    "    - Demostrativo\n",
    "    - Práctico\n",
    "    - Tareas (Enviar URL de Colab antes de próxima clase)\n",
    "        - Por ahora, al correo (milton.garcia@gmail.com), luego, Discord (https://discord.gg/vJDU62vA)"
   ]
  },
  {
   "cell_type": "markdown",
   "metadata": {},
   "source": []
  }
 ],
 "metadata": {
  "language_info": {
   "name": "python"
  }
 },
 "nbformat": 4,
 "nbformat_minor": 2
}
