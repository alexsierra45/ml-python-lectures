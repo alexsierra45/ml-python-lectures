{
 "cells": [
  {
   "cell_type": "markdown",
   "metadata": {},
   "source": [
    "# Course: Machine Learning with Python\n",
    "\n",
    "## Lecture 1\n",
    "- [Course introduction](introduction.ipynb)\n",
    "- [The machine learning way to solve problems](program_vs_ml.ipynb)\n",
    "- Python fundamentals:\n",
    "    - [General Python introduction](python_language.ipynb)\n",
    "    - [Sequences](sequence_types.ipynb)\n",
    "    - [Dictionaries and sets](dicts_and_sets.ipynb)\n",
    "\n",
    "## Tareas:\n",
    "- Avanzada (conocimiento previo de Torch):\n",
    "    - Completar el ejemplo de MNIST con features calculados a mano y comparar con eficacia de la red.\n",
    "    - PLUS: Adicione algún otro feature calculado a mano que mejore el resultado.\n",
    "- Normal: Ejercicios resueltos\n"
   ]
  },
  {
   "cell_type": "markdown",
   "metadata": {},
   "source": []
  }
 ],
 "metadata": {
  "language_info": {
   "name": "python"
  }
 },
 "nbformat": 4,
 "nbformat_minor": 2
}
