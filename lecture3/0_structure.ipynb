{
 "cells": [
  {
   "cell_type": "markdown",
   "metadata": {},
   "source": [
    "# Lecture 3: Introduction to Machine Learning\n",
    "\n",
    "- Introduction to Machine Learning\n",
    "    - [Fundamentals of machine learning](basic_terms.ipynb)\n",
    "- Model Evaluation\n",
    "    - [Model quality estimation](quality_estimation.ipynb)\n",
    "    - [Evaluation metrics](eval_metrics.ipynb)\n",
    "- Basic Machine Learning Models\n",
    "    - [Principal Components Analysis (PCA)](pca.ipynb)\n",
    "    - [Decision trees](dt.ipynb)\n",
    "    - [k-Nearest Neighbors (k-NN)](knn.ipynb)"
   ]
  },
  {
   "cell_type": "markdown",
   "metadata": {},
   "source": []
  }
 ],
 "metadata": {
  "language_info": {
   "name": "python"
  }
 },
 "nbformat": 4,
 "nbformat_minor": 2
}
